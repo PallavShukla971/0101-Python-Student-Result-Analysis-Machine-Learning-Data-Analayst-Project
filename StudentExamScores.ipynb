{
 "cells": [
  {
   "cell_type": "code",
   "execution_count": 7,
   "id": "db36b4ef-f297-4996-84bd-b8679da2ed7c",
   "metadata": {},
   "outputs": [],
   "source": [
    "# pip install numpy\n",
    "# pip install pandas\n",
    "# pip install matplotlib\n",
    "# pip install seaborn\n",
    "# install these lib first of all through your cmd prmopt."
   ]
  },
  {
   "cell_type": "code",
   "execution_count": 9,
   "id": "d73f1bb9-ac17-4387-879a-7c50d1a63524",
   "metadata": {},
   "outputs": [],
   "source": [
    "import numpy as np\n",
    "import pandas as pd\n",
    "import matplotlib.pyplot as plt\n",
    "import seaborn as sns"
   ]
  },
  {
   "cell_type": "code",
   "execution_count": 10,
   "id": "4ffc0369-6a0c-4174-826c-1157d9e3c7d4",
   "metadata": {},
   "outputs": [],
   "source": [
    "#Dataset calling\n",
    "df = pd.read_csv(\"Expanded_data_with_more_features.csv\")\n"
   ]
  },
  {
   "cell_type": "code",
   "execution_count": null,
   "id": "42d5406e-815c-45c5-a4b8-82970e4afda0",
   "metadata": {},
   "outputs": [],
   "source": []
  }
 ],
 "metadata": {
  "kernelspec": {
   "display_name": "Python 3 (ipykernel)",
   "language": "python",
   "name": "python3"
  },
  "language_info": {
   "codemirror_mode": {
    "name": "ipython",
    "version": 3
   },
   "file_extension": ".py",
   "mimetype": "text/x-python",
   "name": "python",
   "nbconvert_exporter": "python",
   "pygments_lexer": "ipython3",
   "version": "3.11.9"
  }
 },
 "nbformat": 4,
 "nbformat_minor": 5
}
